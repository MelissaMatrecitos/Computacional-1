{
 "cells": [
  {
   "cell_type": "code",
   "execution_count": 1,
   "metadata": {},
   "outputs": [
    {
     "data": {
      "text/plain": [
       "3"
      ]
     },
     "execution_count": 1,
     "metadata": {},
     "output_type": "execute_result"
    }
   ],
   "source": [
    "1+2"
   ]
  },
  {
   "cell_type": "code",
   "execution_count": 2,
   "metadata": {},
   "outputs": [
    {
     "data": {
      "text/plain": [
       "4"
      ]
     },
     "execution_count": 2,
     "metadata": {},
     "output_type": "execute_result"
    }
   ],
   "source": [
    "2*2"
   ]
  },
  {
   "cell_type": "code",
   "execution_count": 1,
   "metadata": {},
   "outputs": [],
   "source": [
    "def vectorfield(w, t, p):\n",
    "    \"\"\"\n",
    "    Defines the differential equations for the coupled spring-mass system.\n",
    "\n",
    "    Arguments:\n",
    "        w :  vector of the state variables:\n",
    "                  w = [x1,y1,x2,y2]\n",
    "        t :  time\n",
    "        p :  vector of the parameters:\n",
    "                  p = [m1,m2,k1,k2,L1,L2,b1,b2]\n",
    "    \"\"\"\n",
    "    x1, y1, x2, y2 = w\n",
    "    m1, m2, k1, k2, L1, L2, b1, b2 = p\n",
    "\n",
    "    # Create f = (x1',y1',x2',y2'):\n",
    "    f = [y1,\n",
    "         (-b1 * y1 - k1 * (x1 - L1) + k2 * (x2 - x1 - L2)) / m1,\n",
    "         y2,\n",
    "         (-b2 * y2 - k2 * (x2 - x1 - L2)) / m2]\n",
    "    return f"
   ]
  },
  {
   "cell_type": "code",
   "execution_count": 2,
   "metadata": {},
   "outputs": [],
   "source": [
    "# Use ODEINT to solve the differential equations defined by the vector field\n",
    "from scipy.integrate import odeint\n",
    "\n",
    "# Parameter values\n",
    "# Masses:\n",
    "m1 = 1.0\n",
    "m2 = 1.5\n",
    "# Spring constants\n",
    "k1 = 8.0\n",
    "k2 = 40.0\n",
    "# Natural lengths\n",
    "L1 = 0.5\n",
    "L2 = 1.0\n",
    "# Friction coefficients\n",
    "b1 = 0.8\n",
    "b2 = 0.5\n",
    "\n",
    "# Initial conditions\n",
    "# x1 and x2 are the initial displacements; y1 and y2 are the initial velocities\n",
    "x1 = 0.5\n",
    "y1 = 0.0\n",
    "x2 = 2.25\n",
    "y2 = 0.0\n",
    "\n",
    "# ODE solver parameters\n",
    "abserr = 1.0e-8\n",
    "relerr = 1.0e-6\n",
    "stoptime = 10.0\n",
    "numpoints = 250\n",
    "\n",
    "# Create the time samples for the output of the ODE solver.\n",
    "# I use a large number of points, only because I want to make\n",
    "# a plot of the solution that looks nice.\n",
    "t = [stoptime * float(i) / (numpoints - 1) for i in range(numpoints)]\n",
    "\n",
    "# Pack up the parameters and initial conditions:\n",
    "p = [m1, m2, k1, k2, L1, L2, b1, b2]\n",
    "w0 = [x1, y1, x2, y2]\n",
    "\n",
    "# Call the ODE solver.\n",
    "wsol = odeint(vectorfield, w0, t, args=(p,),\n",
    "              atol=abserr, rtol=relerr)\n",
    "\n",
    "with open('two_springs.dat', 'w') as f:\n",
    "    # Print & save the solution.\n",
    "    for t1, w1 in zip(t, wsol):\n",
    "        print (t1, w1[0], w1[1], w1[2], w1[3], file=f)"
   ]
  },
  {
   "cell_type": "code",
   "execution_count": 3,
   "metadata": {},
   "outputs": [
    {
     "data": {
      "image/png": "[encoded data removed]",
      "text/plain": [
       "<matplotlib.figure.Figure at 0x7ffa9f9faf60>"
      ]
     },
     "metadata": {},
     "output_type": "display_data"
    }
   ],
   "source": [
    "# Plot the solution that was generated\n",
    "\n",
    "from numpy import loadtxt\n",
    "from pylab import figure, plot, xlabel, grid, hold, legend, title, savefig\n",
    "from matplotlib.font_manager import FontProperties\n",
    "%matplotlib inline\n",
    "\n",
    "t, x1, xy, x2, y2 = loadtxt('two_springs.dat', unpack=True)\n",
    "\n",
    "figure(1, figsize=(6, 4.5))\n",
    "\n",
    "xlabel('t')\n",
    "grid(True)\n",
    "lw = 1\n",
    "\n",
    "plot(t, x1, 'c', linewidth=lw)\n",
    "plot(t, x2, 'hotpink', linewidth=lw)\n",
    "\n",
    "legend((r'$x_1$', r'$x_2$'), prop=FontProperties(size=16))\n",
    "title('Mass Displacements for the\\nCoupled Spring-Mass System')\n",
    "savefig('two_springs.png', dpi=100)\n"
   ]
  },
  {
   "cell_type": "code",
   "execution_count": null,
   "metadata": {},
   "outputs": [],
   "source": []
  }
 ],
 "metadata": {
  "kernelspec": {
   "display_name": "Python 3",
   "language": "python",
   "name": "python3"
  },
  "language_info": {
   "codemirror_mode": {
    "name": "ipython",
    "version": 3
   },
   "file_extension": ".py",
   "mimetype": "text/x-python",
   "name": "python",
   "nbconvert_exporter": "python",
   "pygments_lexer": "ipython3",
   "version": "3.6.3"
  }
 },
 "nbformat": 4,
 "nbformat_minor": 2
}
